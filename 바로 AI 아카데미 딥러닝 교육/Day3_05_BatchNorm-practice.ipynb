{
 "cells": [
  {
   "cell_type": "markdown",
   "metadata": {},
   "source": [
    "### Import Library"
   ]
  },
  {
   "cell_type": "code",
   "execution_count": 1,
   "metadata": {},
   "outputs": [],
   "source": [
    "# warning message 제거\n",
    "\n",
    "import warnings\n",
    "warnings.filterwarnings(action='ignore')"
   ]
  },
  {
   "cell_type": "code",
   "execution_count": 5,
   "metadata": {},
   "outputs": [],
   "source": [
    "import numpy as np\n",
    "import torch\n",
    "import torch.nn as nn\n",
    "import torch.optim as optim\n",
    "from torch.nn import functional as F\n",
    "\n",
    "import random"
   ]
  },
  {
   "cell_type": "code",
   "execution_count": 3,
   "metadata": {},
   "outputs": [],
   "source": [
    "from mnist import MNIST\n",
    "\n",
    "import torch.utils.data as data_utils\n",
    "from torch.utils.data import DataLoader\n",
    "\n",
    "# loss 값 ploting 을 위해 사용\n",
    "import matplotlib.pyplot as plt"
   ]
  },
  {
   "cell_type": "markdown",
   "metadata": {},
   "source": [
    "Check GPU and fix the random seed"
   ]
  },
  {
   "cell_type": "code",
   "execution_count": 4,
   "metadata": {},
   "outputs": [
    {
     "name": "stdout",
     "output_type": "stream",
     "text": [
      "cuda\n"
     ]
    }
   ],
   "source": [
    "device = 'cuda' if torch.cuda.is_available() else 'cpu'\n",
    "print(device)\n",
    "\n",
    "random.seed(777)\n",
    "torch.manual_seed(777)\n",
    "if device == 'cuda':\n",
    "    torch.cuda.manual_seed_all(777)"
   ]
  },
  {
   "cell_type": "markdown",
   "metadata": {},
   "source": [
    "### Load Dataset and preprocessing"
   ]
  },
  {
   "cell_type": "code",
   "execution_count": 6,
   "metadata": {
    "scrolled": true
   },
   "outputs": [
    {
     "name": "stdout",
     "output_type": "stream",
     "text": [
      "x_train 의 shape=(60000, 784), y_train 의 shape=(60000,)\n",
      "x_test 의 shape=(10000, 784), y_test 의 shape=(10000,)\n"
     ]
    }
   ],
   "source": [
    "mnist = MNIST('./MNIST')\n",
    "mnist.gz = True\n",
    "x_train, y_train = mnist.load_training()\n",
    "x_test, y_test = mnist.load_testing()\n",
    "\n",
    "# data 는 list 형식을 되어 있으므로 shape 을 보고, 이미지 visualization 을 하기 편한 array 형태로 바꾸어준다.\n",
    "\n",
    "x_train=np.asarray(x_train)\n",
    "y_train=np.asarray(y_train)\n",
    "x_test=np.asarray(x_test)\n",
    "y_test=np.asarray(y_test)\n",
    "\n",
    "print(\"x_train 의 shape={}, y_train 의 shape={}\".format(x_train.shape,y_train.shape))\n",
    "print(\"x_test 의 shape={}, y_test 의 shape={}\".format(x_test.shape,y_test.shape))"
   ]
  },
  {
   "cell_type": "markdown",
   "metadata": {},
   "source": [
    "### Convert dataset into Tensor"
   ]
  },
  {
   "cell_type": "code",
   "execution_count": 7,
   "metadata": {},
   "outputs": [],
   "source": [
    "batch_size = 1000\n",
    "traindata = data_utils.TensorDataset(torch.FloatTensor(x_train), torch.FloatTensor(y_train))\n",
    "trainloader = data_utils.DataLoader(traindata, batch_size = 1000, shuffle = True, drop_last = False)"
   ]
  },
  {
   "cell_type": "markdown",
   "metadata": {},
   "source": [
    "### Make Batch_Norm_Class"
   ]
  },
  {
   "cell_type": "code",
   "execution_count": 8,
   "metadata": {},
   "outputs": [],
   "source": [
    "class Batch_Norm(nn.Module):\n",
    "    def __init__(self):\n",
    "        super(Batch_Norm, self).__init__()\n",
    "\n",
    "        self.network = nn.Sequential(nn.Linear(784,256),\n",
    "                                     nn.BatchNorm1d(256),\n",
    "                                     nn.ReLU(),\n",
    "                                     nn.Linear(256,64),\n",
    "                                     nn.BatchNorm1d(64),\n",
    "                                     nn.ReLU(),\n",
    "                                     nn.Linear(64,10))\n",
    "                                     \n",
    "    def forward(self, x):\n",
    "        output = self.network(x)\n",
    "        \n",
    "        return output\n",
    "    \n",
    "model = Batch_Norm().to(device)"
   ]
  },
  {
   "cell_type": "code",
   "execution_count": 9,
   "metadata": {},
   "outputs": [
    {
     "data": {
      "text/plain": [
       "Batch_Norm(\n",
       "  (network): Sequential(\n",
       "    (0): Linear(in_features=784, out_features=256, bias=True)\n",
       "    (1): BatchNorm1d(256, eps=1e-05, momentum=0.1, affine=True, track_running_stats=True)\n",
       "    (2): ReLU()\n",
       "    (3): Linear(in_features=256, out_features=64, bias=True)\n",
       "    (4): BatchNorm1d(64, eps=1e-05, momentum=0.1, affine=True, track_running_stats=True)\n",
       "    (5): ReLU()\n",
       "    (6): Linear(in_features=64, out_features=10, bias=True)\n",
       "  )\n",
       ")"
      ]
     },
     "execution_count": 9,
     "metadata": {},
     "output_type": "execute_result"
    }
   ],
   "source": [
    "model"
   ]
  },
  {
   "cell_type": "markdown",
   "metadata": {},
   "source": [
    "### Set parameters"
   ]
  },
  {
   "cell_type": "code",
   "execution_count": 10,
   "metadata": {},
   "outputs": [],
   "source": [
    "# learning_rate = 1e-3\n",
    "# weight_decay = 0.1"
   ]
  },
  {
   "cell_type": "code",
   "execution_count": 11,
   "metadata": {},
   "outputs": [],
   "source": [
    "epoch = 15\n",
    "learning_rate = 0.01\n",
    "weight_decay = 1e-5\n",
    "\n",
    "loss_function = torch.nn.CrossEntropyLoss()\n",
    "optimizer = torch.optim.Adam(model.parameters(), lr = learning_rate, weight_decay=weight_decay)"
   ]
  },
  {
   "cell_type": "markdown",
   "metadata": {},
   "source": [
    "### Data Train"
   ]
  },
  {
   "cell_type": "code",
   "execution_count": 12,
   "metadata": {},
   "outputs": [
    {
     "name": "stdout",
     "output_type": "stream",
     "text": [
      "Epoch = 1\tAverage loss = 0.32772032159070164\n",
      "Epoch = 2\tAverage loss = 0.09345026562611261\n",
      "Epoch = 3\tAverage loss = 0.05768501379837592\n",
      "Epoch = 4\tAverage loss = 0.03939038366079329\n",
      "Epoch = 5\tAverage loss = 0.030644188448786736\n",
      "Epoch = 6\tAverage loss = 0.025829283117006215\n",
      "Epoch = 7\tAverage loss = 0.02019096144164602\n",
      "Epoch = 8\tAverage loss = 0.016429429159810143\n",
      "Epoch = 9\tAverage loss = 0.01426199017247806\n",
      "Epoch = 10\tAverage loss = 0.013543213523613908\n",
      "Epoch = 11\tAverage loss = 0.011274401552509515\n",
      "Epoch = 12\tAverage loss = 0.010630296302648884\n",
      "Epoch = 13\tAverage loss = 0.013051807329369086\n",
      "Epoch = 14\tAverage loss = 0.011145484144799413\n",
      "Epoch = 15\tAverage loss = 0.008399493996209156\n"
     ]
    }
   ],
   "source": [
    "loss_list = []\n",
    "\n",
    "for num_epoch in range(epoch):\n",
    "    average_loss = 0\n",
    "    \n",
    "    for batch_idx, (image, label) in enumerate(trainloader):\n",
    "        data_len = len(trainloader)\n",
    "        \n",
    "        x_Data = image.to(device)\n",
    "\n",
    "        optimizer.zero_grad()\n",
    "        \n",
    "        y_predict = model.forward(x_Data)\n",
    "        \n",
    "        y_label_long = torch.tensor(label, dtype=torch.long)\n",
    "        y_label_long = y_label_long.to(device)\n",
    "        \n",
    "        \n",
    "        loss = loss_function(y_predict, y_label_long)\n",
    "        \n",
    "        loss.backward()\n",
    "        \n",
    "        optimizer.step()\n",
    "        \n",
    "        loss_list.append(loss.item())\n",
    "        \n",
    "        average_loss += (loss.item()/data_len)\n",
    "\n",
    "    print('Epoch = {}\\tAverage loss = {}'.format((num_epoch+1), average_loss))"
   ]
  },
  {
   "cell_type": "markdown",
   "metadata": {},
   "source": [
    "### Check 3rd Epoch average Loss"
   ]
  },
  {
   "cell_type": "code",
   "execution_count": 13,
   "metadata": {},
   "outputs": [
    {
     "name": "stdout",
     "output_type": "stream",
     "text": [
      "0.05768501379837592\n"
     ]
    }
   ],
   "source": [
    "epoch_loss = 0\n",
    "for i in range(60):\n",
    "    epoch_loss = epoch_loss + loss_list[i+120]\n",
    "    \n",
    "print(epoch_loss/60)"
   ]
  },
  {
   "cell_type": "code",
   "execution_count": 14,
   "metadata": {},
   "outputs": [
    {
     "data": {
      "text/plain": [
       "900"
      ]
     },
     "execution_count": 14,
     "metadata": {},
     "output_type": "execute_result"
    }
   ],
   "source": [
    "len(loss_list)"
   ]
  },
  {
   "cell_type": "code",
   "execution_count": 15,
   "metadata": {},
   "outputs": [],
   "source": [
    "from matplotlib import pyplot as plt"
   ]
  },
  {
   "cell_type": "code",
   "execution_count": 16,
   "metadata": {},
   "outputs": [
    {
     "data": {
      "text/plain": [
       "[<matplotlib.lines.Line2D at 0x1d8991d7730>]"
      ]
     },
     "execution_count": 16,
     "metadata": {},
     "output_type": "execute_result"
    },
    {
     "data": {
      "image/png": "[encoded data removed]",
      "text/plain": [
       "<Figure size 432x288 with 1 Axes>"
      ]
     },
     "metadata": {
      "needs_background": "light"
     },
     "output_type": "display_data"
    }
   ],
   "source": [
    "plt.plot(np.array(loss_list[7:]), 'g')"
   ]
  },
  {
   "cell_type": "code",
   "execution_count": null,
   "metadata": {},
   "outputs": [],
   "source": [
    "import pickle\n",
    "\n",
    "# wb - 바이트 형식으로 저장\n",
    "\n",
    "with open('BatchNorm.pickle', 'wb') as f:\n",
    "    pickle.dump(loss_list, f)"
   ]
  },
  {
   "cell_type": "markdown",
   "metadata": {},
   "source": [
    "### Test Code"
   ]
  },
  {
   "cell_type": "code",
   "execution_count": null,
   "metadata": {},
   "outputs": [],
   "source": [
    "test_data = data_utils.TensorDataset(torch.FloatTensor(x_test), torch.FloatTensor(y_test))\n",
    "\n",
    "testloader = data_utils.DataLoader(test_data, batch_size=5000, shuffle = False)"
   ]
  },
  {
   "cell_type": "code",
   "execution_count": null,
   "metadata": {},
   "outputs": [],
   "source": [
    "with torch.no_grad():\n",
    "    # model.eval()\n",
    "    \n",
    "    num_total_data = 0\n",
    "    correct = 0\n",
    "    \n",
    "    for batch_idx, (image, label) in enumerate(testloader):\n",
    "        \n",
    "        x_data = image.to(device)\n",
    "        label = label.to(device)\n",
    "        predict = model(x_data).to(device)\n",
    "        \n",
    "        predict_sftmax = torch.nn.functional.softmax(predict)\n",
    "        \n",
    "        predict_label = torch.argmax(predict_sftmax, dim=1)\n",
    "        \n",
    "        num_total_data += len(image)\n",
    "        # print(num_total_data)\n",
    "        answer = sum(label==predict_label).item()\n",
    "        correct += answer\n",
    "        \n",
    "    print(\"BatchNorm 을 적용했을 때의 accuracy %.2f%%\" %((correct/num_total_data)*100))"
   ]
  },
  {
   "cell_type": "code",
   "execution_count": null,
   "metadata": {},
   "outputs": [],
   "source": []
  }
 ],
 "metadata": {
  "kernelspec": {
   "display_name": "Python 3 (ipykernel)",
   "language": "python",
   "name": "python3"
  },
  "language_info": {
   "codemirror_mode": {
    "name": "ipython",
    "version": 3
   },
   "file_extension": ".py",
   "mimetype": "text/x-python",
   "name": "python",
   "nbconvert_exporter": "python",
   "pygments_lexer": "ipython3",
   "version": "3.8.13"
  }
 },
 "nbformat": 4,
 "nbformat_minor": 1
}
